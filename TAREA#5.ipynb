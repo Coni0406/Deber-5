{
 "cells": [
  {
   "cell_type": "code",
   "execution_count": 2,
   "id": "905db3f1-2cea-4088-bbb9-7d826c74a0b0",
   "metadata": {},
   "outputs": [
    {
     "name": "stdout",
     "output_type": "stream",
     "text": [
      "Método de Newton: p2 = -0.8656841631760818\n",
      "Método de la Secante: p2 = -0.8922107665609997\n",
      "Método de Newton: No se puede usar p0 = 0 porque la derivada es cero.\n",
      "Método de la Secante con p0 = 0 y p1 = 0.1: p2 = 0.09841606487818666\n"
     ]
    }
   ],
   "source": [
    "# Ejercicio 1\n",
    "import math\n",
    "\n",
    "# Definir la función f(x) y su derivada f'(x)\n",
    "def f(x):\n",
    "    return -x**3 - math.cos(x)\n",
    "\n",
    "def df(x):\n",
    "    return -3*x**2 + math.sin(x)\n",
    "\n",
    "# Método de Newton\n",
    "def newton_method(p0, iterations=2):\n",
    "    p = p0\n",
    "    for i in range(iterations):\n",
    "        if df(p) == 0:  # Evitar división por cero\n",
    "            raise ValueError(f\"Derivada cero en x = {p}. Newton no es aplicable.\")\n",
    "        p = p - f(p) / df(p)\n",
    "    return p\n",
    "\n",
    "# Método de la Secante\n",
    "def secant_method(p0, p1, iterations=2):\n",
    "    p_prev, p_curr = p0, p1\n",
    "    for i in range(iterations):\n",
    "        if f(p_curr) - f(p_prev) == 0:  # Evitar división por cero\n",
    "            raise ValueError(f\"Diferencia cero entre f(x) valores. Secante no es aplicable.\")\n",
    "        p_next = p_curr - f(p_curr) * (p_curr - p_prev) / (f(p_curr) - f(p_prev))\n",
    "        p_prev, p_curr = p_curr, p_next\n",
    "    return p_curr\n",
    "\n",
    "# Usar p0 = -1 para Newton y Secante\n",
    "p0_newton = -1\n",
    "p0_secant = -1\n",
    "p1_secant = -0.5  # Otro punto cercano para el método de la Secante\n",
    "\n",
    "# Calcular p2 con ambos métodos\n",
    "try:\n",
    "    # Método de Newton\n",
    "    p2_newton = newton_method(p0_newton)\n",
    "    print(f\"Método de Newton: p2 = {p2_newton}\")\n",
    "except ValueError as e:\n",
    "    print(f\"Error en Método de Newton: {e}\")\n",
    "\n",
    "try:\n",
    "    # Método de la Secante\n",
    "    p2_secant = secant_method(p0_secant, p1_secant)\n",
    "    print(f\"Método de la Secante: p2 = {p2_secant}\")\n",
    "except ValueError as e:\n",
    "    print(f\"Error en Método de la Secante: {e}\")\n",
    "\n",
    "# Verificar si p0 = 0 es válido\n",
    "try:\n",
    "    if df(0) == 0:\n",
    "        print(\"Método de Newton: No se puede usar p0 = 0 porque la derivada es cero.\")\n",
    "    else:\n",
    "        p2_newton_zero = newton_method(0)\n",
    "        print(f\"Método de Newton con p0 = 0: p2 = {p2_newton_zero}\")\n",
    "except ValueError as e:\n",
    "    print(f\"Error en Método de Newton con p0 = 0: {e}\")\n",
    "\n",
    "try:\n",
    "    p2_secant_zero = secant_method(0, 0.1)\n",
    "    print(f\"Método de la Secante con p0 = 0 y p1 = 0.1: p2 = {p2_secant_zero}\")\n",
    "except ValueError as e:\n",
    "    print(f\"Error en Método de la Secante con p0 = 0: {e}\")"
   ]
  },
  {
   "cell_type": "code",
   "execution_count": 3,
   "id": "fb8365b2-3ec4-4496-9a68-dde2dda2c20e",
   "metadata": {},
   "outputs": [
    {
     "name": "stdout",
     "output_type": "stream",
     "text": [
      "Raíz para el literal a: 2.690704345703125\n"
     ]
    }
   ],
   "source": [
    "# Ejercicio 2\n",
    "# Literal a\n",
    "import math\n",
    "\n",
    "# Definimos la función\n",
    "def f_a(x):\n",
    "    return x**3 - 2*x**2 - 5\n",
    "\n",
    "# Método de bisección\n",
    "def bisection_a(a, b, tol=1e-4):\n",
    "    if f_a(a) * f_a(b) >= 0:\n",
    "        raise ValueError(\"El intervalo no contiene una raíz.\")\n",
    "    while (b - a) / 2 > tol:\n",
    "        c = (a + b) / 2\n",
    "        if f_a(c) == 0:\n",
    "            return c\n",
    "        elif f_a(a) * f_a(c) < 0:\n",
    "            b = c\n",
    "        else:\n",
    "            a = c\n",
    "    return (a + b) / 2\n",
    "\n",
    "# Intervalo [1, 4]\n",
    "root_a = bisection_a(1, 4)\n",
    "print(f\"Raíz para el literal a: {root_a}\")"
   ]
  },
  {
   "cell_type": "code",
   "execution_count": 4,
   "id": "66ea978d-babd-49b8-ac1c-d4cd4fcca404",
   "metadata": {},
   "outputs": [
    {
     "name": "stdout",
     "output_type": "stream",
     "text": [
      "Raíz para el literal b: -2.87933349609375\n"
     ]
    }
   ],
   "source": [
    "# Literal b\n",
    "# Definimos la función\n",
    "def f_b(x):\n",
    "    return x**3 + 3*x**2 - 1\n",
    "\n",
    "# Método de bisección\n",
    "def bisection_b(a, b, tol=1e-4):\n",
    "    if f_b(a) * f_b(b) >= 0:\n",
    "        raise ValueError(\"El intervalo no contiene una raíz.\")\n",
    "    while (b - a) / 2 > tol:\n",
    "        c = (a + b) / 2\n",
    "        if f_b(c) == 0:\n",
    "            return c\n",
    "        elif f_b(a) * f_b(c) < 0:\n",
    "            b = c\n",
    "        else:\n",
    "            a = c\n",
    "    return (a + b) / 2\n",
    "\n",
    "# Intervalo [-3, -2]\n",
    "root_b = bisection_b(-3, -2)\n",
    "print(f\"Raíz para el literal b: {root_b}\")"
   ]
  },
  {
   "cell_type": "code",
   "execution_count": 5,
   "id": "11aa6326-9bbd-4db5-9403-04895cb6db99",
   "metadata": {},
   "outputs": [
    {
     "name": "stdout",
     "output_type": "stream",
     "text": [
      "Raíz para el literal c: 0.7390911183631504\n"
     ]
    }
   ],
   "source": [
    "# Literal c\n",
    "# Definimos la función\n",
    "def f_c(x):\n",
    "    return x - math.cos(x)\n",
    "\n",
    "# Método de bisección\n",
    "def bisection_c(a, b, tol=1e-4):\n",
    "    if f_c(a) * f_c(b) >= 0:\n",
    "        raise ValueError(\"El intervalo no contiene una raíz.\")\n",
    "    while (b - a) / 2 > tol:\n",
    "        c = (a + b) / 2\n",
    "        if f_c(c) == 0:\n",
    "            return c\n",
    "        elif f_c(a) * f_c(c) < 0:\n",
    "            b = c\n",
    "        else:\n",
    "            a = c\n",
    "    return (a + b) / 2\n",
    "\n",
    "# Intervalo [0, pi/2]\n",
    "root_c = bisection_c(0, math.pi/2)\n",
    "print(f\"Raíz para el literal c: {root_c}\")"
   ]
  },
  {
   "cell_type": "code",
   "execution_count": 6,
   "id": "d4e3ae97-affa-4362-9d68-81154aa386ac",
   "metadata": {},
   "outputs": [
    {
     "name": "stdout",
     "output_type": "stream",
     "text": [
      "Raíz para el literal d: 0.964394546583854\n"
     ]
    }
   ],
   "source": [
    "# Literal d\n",
    "# Definimos la función\n",
    "def f_d(x):\n",
    "    return x - 0.8 - 0.2 * math.sin(x)\n",
    "\n",
    "# Método de bisección\n",
    "def bisection_d(a, b, tol=1e-4):\n",
    "    if f_d(a) * f_d(b) >= 0:\n",
    "        raise ValueError(\"El intervalo no contiene una raíz.\")\n",
    "    while (b - a) / 2 > tol:\n",
    "        c = (a + b) / 2\n",
    "        if f_d(c) == 0:\n",
    "            return c\n",
    "        elif f_d(a) * f_d(c) < 0:\n",
    "            b = c\n",
    "        else:\n",
    "            a = c\n",
    "    return (a + b) / 2\n",
    "\n",
    "# Intervalo [0, pi/2]\n",
    "root_d = bisection_d(0, math.pi/2)\n",
    "print(f\"Raíz para el literal d: {root_d}\")"
   ]
  },
  {
   "cell_type": "code",
   "execution_count": 7,
   "id": "5afcc588-c199-4ee4-8315-5794dd81fd13",
   "metadata": {},
   "outputs": [
    {
     "name": "stdout",
     "output_type": "stream",
     "text": [
      "Raíz para literal a con método de Newton: 1.5121345516578504\n"
     ]
    }
   ],
   "source": [
    "# Ejercicio 3\n",
    "# Literal A\n",
    "import math\n",
    "\n",
    "# Función y derivada\n",
    "def f_a(x):\n",
    "    return 3*x - math.exp(x)\n",
    "\n",
    "def df_a(x):\n",
    "    return 3 - math.exp(x)\n",
    "\n",
    "# Método de Newton\n",
    "def newton_method_a(p0, tol=1e-5, max_iter=100):\n",
    "    for _ in range(max_iter):\n",
    "        if df_a(p0) == 0:\n",
    "            raise ValueError(\"Derivada cero. Método de Newton no es aplicable.\")\n",
    "        p1 = p0 - f_a(p0) / df_a(p0)\n",
    "        if abs(p1 - p0) < tol:\n",
    "            return p1\n",
    "        p0 = p1\n",
    "    raise ValueError(\"El método de Newton no convergió.\")\n",
    "\n",
    "# Calcular raíz usando p0 inicial dentro [1, 2]\n",
    "root_newton_a = newton_method_a(1.5)\n",
    "print(f\"Raíz para literal a con método de Newton: {root_newton_a}\")"
   ]
  },
  {
   "cell_type": "code",
   "execution_count": 8,
   "id": "9e72f136-b268-4510-a408-f25a7c49ad83",
   "metadata": {},
   "outputs": [
    {
     "name": "stdout",
     "output_type": "stream",
     "text": [
      "Raíz para literal a con método de la Secante: 1.5121345517620621\n"
     ]
    }
   ],
   "source": [
    "# Método de la Secante\n",
    "def secant_method_a(p0, p1, tol=1e-5, max_iter=100):\n",
    "    for _ in range(max_iter):\n",
    "        if f_a(p1) - f_a(p0) == 0:\n",
    "            raise ValueError(\"Diferencia cero. Método de la Secante no es aplicable.\")\n",
    "        p2 = p1 - f_a(p1) * (p1 - p0) / (f_a(p1) - f_a(p0))\n",
    "        if abs(p2 - p1) < tol:\n",
    "            return p2\n",
    "        p0, p1 = p1, p2\n",
    "    raise ValueError(\"El método de la Secante no convergió.\")\n",
    "\n",
    "# Calcular raíz usando puntos iniciales dentro [1, 2]\n",
    "root_secant_a = secant_method_a(1, 2)\n",
    "print(f\"Raíz para literal a con método de la Secante: {root_secant_a}\")"
   ]
  },
  {
   "cell_type": "code",
   "execution_count": 9,
   "id": "cf3fcea6-ce25-4538-81fc-3699340b4ee2",
   "metadata": {},
   "outputs": [
    {
     "name": "stdout",
     "output_type": "stream",
     "text": [
      "Raíz para literal b con método de Newton: 1.2397146979752212\n"
     ]
    }
   ],
   "source": [
    "# Literal B\n",
    "# Función y derivada\n",
    "def f_b(x):\n",
    "    return 2*x + 3*math.cos(x) - math.exp(x)\n",
    "\n",
    "def df_b(x):\n",
    "    return 2 - 3*math.sin(x) - math.exp(x)\n",
    "\n",
    "# Método de Newton\n",
    "def newton_method_b(p0, tol=1e-5, max_iter=100):\n",
    "    for _ in range(max_iter):\n",
    "        if df_b(p0) == 0:\n",
    "            raise ValueError(\"Derivada cero. Método de Newton no es aplicable.\")\n",
    "        p1 = p0 - f_b(p0) / df_b(p0)\n",
    "        if abs(p1 - p0) < tol:\n",
    "            return p1\n",
    "        p0 = p1\n",
    "    raise ValueError(\"El método de Newton no convergió.\")\n",
    "\n",
    "# Calcular raíz usando p0 inicial dentro [1, 2]\n",
    "root_newton_b = newton_method_b(1.5)\n",
    "print(f\"Raíz para literal b con método de Newton: {root_newton_b}\")"
   ]
  },
  {
   "cell_type": "code",
   "execution_count": 10,
   "id": "04694a23-1286-40cf-aa5f-8543f76a9ad9",
   "metadata": {},
   "outputs": [
    {
     "name": "stdout",
     "output_type": "stream",
     "text": [
      "Raíz para literal b con método de la Secante: 1.2397146979752531\n"
     ]
    }
   ],
   "source": [
    "# Método de la Secante\n",
    "def secant_method_b(p0, p1, tol=1e-5, max_iter=100):\n",
    "    for _ in range(max_iter):\n",
    "        if f_b(p1) - f_b(p0) == 0:\n",
    "            raise ValueError(\"Diferencia cero. Método de la Secante no es aplicable.\")\n",
    "        p2 = p1 - f_b(p1) * (p1 - p0) / (f_b(p1) - f_b(p0))\n",
    "        if abs(p2 - p1) < tol:\n",
    "            return p2\n",
    "        p0, p1 = p1, p2\n",
    "    raise ValueError(\"El método de la Secante no convergió.\")\n",
    "\n",
    "# Calcular raíz usando puntos iniciales dentro [1, 2]\n",
    "root_secant_b = secant_method_b(1, 2)\n",
    "print(f\"Raíz para literal b con método de la Secante: {root_secant_b}\")"
   ]
  },
  {
   "cell_type": "code",
   "execution_count": 11,
   "id": "ab8f23b0-a69e-42aa-bfc7-6506d9dd0965",
   "metadata": {},
   "outputs": [
    {
     "name": "stdout",
     "output_type": "stream",
     "text": [
      "Raíz en [-1, 0] por Método de la Secante: -0.040659288315725135\n",
      "Raíz en [0, 1] por Método de la Secante: -0.04065928831557162\n"
     ]
    }
   ],
   "source": [
    "# Ejercicio 4\n",
    "# Literal a\n",
    "# Definimos la función\n",
    "def f(x):\n",
    "    return 230*x**4 + 18*x**3 + 9*x**2 - 221*x - 9\n",
    "\n",
    "# Método de la secante\n",
    "def secant_method(f, p0, p1, tol=1e-6, max_iter=100):\n",
    "    for _ in range(max_iter):\n",
    "        if f(p1) - f(p0) == 0:\n",
    "            raise ValueError(\"Diferencia cero. Método de la Secante no es aplicable.\")\n",
    "        p2 = p1 - f(p1) * (p1 - p0) / (f(p1) - f(p0))\n",
    "        if abs(p2 - p1) < tol:\n",
    "            return p2\n",
    "        p0, p1 = p1, p2\n",
    "    raise ValueError(\"El método de la Secante no convergió.\")\n",
    "\n",
    "# Intervalos iniciales\n",
    "root_secant_1 = secant_method(f, -1, 0)  # Cero en [-1, 0]\n",
    "root_secant_2 = secant_method(f, 0, 1)   # Cero en [0, 1]\n",
    "\n",
    "print(f\"Raíz en [-1, 0] por Método de la Secante: {root_secant_1}\")\n",
    "print(f\"Raíz en [0, 1] por Método de la Secante: {root_secant_2}\")"
   ]
  },
  {
   "cell_type": "code",
   "execution_count": 12,
   "id": "92924370-691a-4998-8ae0-d88a190b3c41",
   "metadata": {},
   "outputs": [
    {
     "name": "stdout",
     "output_type": "stream",
     "text": [
      "Raíz en [-1, 0] por Método de Newton: -0.04065928831575899\n",
      "Raíz en [0, 1] por Método de Newton: -0.040659288315758865\n"
     ]
    }
   ],
   "source": [
    "# Literal b\n",
    "# Derivada de la función\n",
    "def df(x):\n",
    "    return 920*x**3 + 54*x**2 + 18*x - 221\n",
    "\n",
    "# Método de Newton\n",
    "def newton_method(f, df, p0, tol=1e-6, max_iter=100):\n",
    "    for _ in range(max_iter):\n",
    "        if df(p0) == 0:\n",
    "            raise ValueError(\"Derivada cero. Método de Newton no es aplicable.\")\n",
    "        p1 = p0 - f(p0) / df(p0)\n",
    "        if abs(p1 - p0) < tol:\n",
    "            return p1\n",
    "        p0 = p1\n",
    "    raise ValueError(\"El método de Newton no convergió.\")\n",
    "\n",
    "# Puntos medios de los intervalos\n",
    "root_newton_1 = newton_method(f, df, -0.5)  # Cero en [-1, 0]\n",
    "root_newton_2 = newton_method(f, df, 0.5)   # Cero en [0, 1]\n",
    "\n",
    "print(f\"Raíz en [-1, 0] por Método de Newton: {root_newton_1}\")\n",
    "print(f\"Raíz en [0, 1] por Método de Newton: {root_newton_2}\")"
   ]
  },
  {
   "cell_type": "code",
   "execution_count": 13,
   "id": "019f2d9f-8cd8-4c75-9b37-e6a52bdc9b95",
   "metadata": {},
   "outputs": [
    {
     "name": "stdout",
     "output_type": "stream",
     "text": [
      "Raíz aproximada con método de Bisección: 0.44742187499999997\n"
     ]
    }
   ],
   "source": [
    "# Ejercicio 5\n",
    "# Literal a\n",
    "import math\n",
    "\n",
    "# Definir la función\n",
    "def f(x):\n",
    "    return math.tan(math.pi * x) - 6\n",
    "\n",
    "# Método de Bisección\n",
    "def bisection_method(f, a, b, iterations=10):\n",
    "    if f(a) * f(b) >= 0:\n",
    "        raise ValueError(\"El intervalo no contiene una raíz.\")\n",
    "    for _ in range(iterations):\n",
    "        c = (a + b) / 2\n",
    "        if f(c) == 0:\n",
    "            return c  # Encontramos la raíz exacta\n",
    "        elif f(a) * f(c) < 0:\n",
    "            b = c\n",
    "        else:\n",
    "            a = c\n",
    "    return (a + b) / 2\n",
    "\n",
    "# Intervalo inicial [0, 0.48]\n",
    "root_bisection = bisection_method(f, 0, 0.48)\n",
    "print(f\"Raíz aproximada con método de Bisección: {root_bisection}\")"
   ]
  },
  {
   "cell_type": "code",
   "execution_count": 14,
   "id": "4e70b6e5-0520-4fa6-a204-0686b02ef913",
   "metadata": {},
   "outputs": [
    {
     "name": "stdout",
     "output_type": "stream",
     "text": [
      "Raíz aproximada con método de Newton: 0.44743154328874657\n"
     ]
    }
   ],
   "source": [
    "# Literal b\n",
    "# Derivada de la función\n",
    "def df(x):\n",
    "    return math.pi * (1 / math.cos(math.pi * x))**2\n",
    "\n",
    "# Método de Newton\n",
    "def newton_method(f, df, p0, iterations=10):\n",
    "    for _ in range(iterations):\n",
    "        if df(p0) == 0:\n",
    "            raise ValueError(\"Derivada cero. Método de Newton no es aplicable.\")\n",
    "        p1 = p0 - f(p0) / df(p0)\n",
    "        p0 = p1\n",
    "    return p0\n",
    "\n",
    "# Punto inicial p0 = 0.48\n",
    "root_newton = newton_method(f, df, 0.48)\n",
    "print(f\"Raíz aproximada con método de Newton: {root_newton}\")"
   ]
  },
  {
   "cell_type": "code",
   "execution_count": 15,
   "id": "ecd03483-d27f-4b63-a4f1-a1eb3b3ebe48",
   "metadata": {},
   "outputs": [
    {
     "name": "stdout",
     "output_type": "stream",
     "text": [
      "Raíz aproximada con método de la Secante: -2989.9400375314453\n"
     ]
    }
   ],
   "source": [
    "# Literal c\n",
    "# Método de la Secante\n",
    "def secant_method(f, p0, p1, iterations=10):\n",
    "    for _ in range(iterations):\n",
    "        if f(p1) - f(p0) == 0:\n",
    "            raise ValueError(\"Diferencia cero. Método de la Secante no es aplicable.\")\n",
    "        p2 = p1 - f(p1) * (p1 - p0) / (f(p1) - f(p0))\n",
    "        p0, p1 = p1, p2\n",
    "    return p1\n",
    "\n",
    "# Puntos iniciales p0 = 0, p1 = 0.48\n",
    "root_secant = secant_method(f, 0, 0.48)\n",
    "print(f\"Raíz aproximada con método de la Secante: {root_secant}\")"
   ]
  },
  {
   "cell_type": "code",
   "execution_count": 16,
   "id": "29c9a2e9-a891-4d51-9686-2c7b5d3acd2e",
   "metadata": {},
   "outputs": [
    {
     "name": "stdout",
     "output_type": "stream",
     "text": [
      "Único cero negativo dentro de 10^-6: -0.43414306640625\n"
     ]
    }
   ],
   "source": [
    "# Ejercicio 6\n",
    "# Literal a\n",
    "import math\n",
    "\n",
    "# Definimos la función\n",
    "def f(x):\n",
    "    return math.log(x**2 + 1) - math.exp(0.4 * x) * math.cos(math.pi * x)\n",
    "\n",
    "# Método de bisección para encontrar el cero negativo\n",
    "def bisection(f, a, b, tol=1e-6, max_iter=100):\n",
    "    if f(a) * f(b) > 0:\n",
    "        raise ValueError(\"El intervalo no contiene un cambio de signo.\")\n",
    "    for _ in range(max_iter):\n",
    "        c = (a + b) / 2\n",
    "        if abs(f(c)) < tol or (b - a) / 2 < tol:\n",
    "            return c\n",
    "        elif f(a) * f(c) < 0:\n",
    "            b = c\n",
    "        else:\n",
    "            a = c\n",
    "    return (a + b) / 2\n",
    "\n",
    "# Buscar en un intervalo negativo razonable, como [-2, 0]\n",
    "root_negative = bisection(f, -2, 0)\n",
    "print(f\"Único cero negativo dentro de 10^-6: {root_negative}\")"
   ]
  },
  {
   "cell_type": "code",
   "execution_count": 17,
   "id": "402e3314-649d-4f19-b975-54e8fb3cd42c",
   "metadata": {},
   "outputs": [
    {
     "name": "stdout",
     "output_type": "stream",
     "text": [
      "Los cuatro ceros positivos más pequeños dentro de 10^-6:\n",
      "Cero positivo 1: 0.4506568908691406\n",
      "Cero positivo 2: 1.7447385787963867\n",
      "Cero positivo 3: 2.2383203506469727\n",
      "Cero positivo 4: 3.709040641784668\n"
     ]
    }
   ],
   "source": [
    "# Literal b\n",
    "# Encontrar los ceros positivos dentro de intervalos pequeños\n",
    "def find_zeros_positive(f, intervals, tol=1e-6):\n",
    "    roots = []\n",
    "    for a, b in intervals:\n",
    "        roots.append(bisection(f, a, b, tol))\n",
    "    return roots\n",
    "\n",
    "# Definir intervalos iniciales [a, b] donde se espera un cambio de signo\n",
    "intervals = [\n",
    "    (0, 1),  # Intervalo para el primer cero positivo\n",
    "    (1, 2),  # Intervalo para el segundo cero positivo\n",
    "    (2, 3),  # Intervalo para el tercer cero positivo\n",
    "    (3, 4),  # Intervalo para el cuarto cero positivo\n",
    "]\n",
    "\n",
    "roots_positive = find_zeros_positive(f, intervals)\n",
    "print(\"Los cuatro ceros positivos más pequeños dentro de 10^-6:\")\n",
    "for i, root in enumerate(roots_positive, 1):\n",
    "    print(f\"Cero positivo {i}: {root}\")"
   ]
  },
  {
   "cell_type": "code",
   "execution_count": 21,
   "id": "b72a3f9f-061e-46dc-82af-86d0b50b88a4",
   "metadata": {},
   "outputs": [
    {
     "data": {
      "image/png": "[encoded data removed]",
      "text/plain": [
       "<Figure size 1000x600 with 1 Axes>"
      ]
     },
     "metadata": {},
     "output_type": "display_data"
    },
    {
     "name": "stdout",
     "output_type": "stream",
     "text": [
      "Aproximaciones iniciales razonables para los primeros 10 ceros positivos:\n",
      "Cero positivo 1: Aproximación inicial ~ 1.2\n",
      "Cero positivo 2: Aproximación inicial ~ 2.4\n",
      "Cero positivo 3: Aproximación inicial ~ 3.5999999999999996\n",
      "Cero positivo 4: Aproximación inicial ~ 4.8\n",
      "Cero positivo 5: Aproximación inicial ~ 6.0\n",
      "Cero positivo 6: Aproximación inicial ~ 7.199999999999999\n",
      "Cero positivo 7: Aproximación inicial ~ 8.4\n",
      "Cero positivo 8: Aproximación inicial ~ 9.6\n",
      "Cero positivo 9: Aproximación inicial ~ 10.799999999999999\n",
      "Cero positivo 10: Aproximación inicial ~ 12.0\n"
     ]
    }
   ],
   "source": [
    "# Literal c\n",
    "import numpy as np\n",
    "import matplotlib.pyplot as plt\n",
    "import math\n",
    "\n",
    "# Definir la función f(x)\n",
    "def f(x):\n",
    "    return math.log(x**2 + 1) - math.exp(0.4 * x) * math.cos(math.pi * x)\n",
    "\n",
    "# Graficar la función para identificar ceros positivos\n",
    "x_vals = np.linspace(0, 10, 1000)  # Rango amplio para observar varios ceros\n",
    "y_vals = [f(x) for x in x_vals]\n",
    "\n",
    "plt.figure(figsize=(10, 6))\n",
    "plt.axhline(0, color='red', linestyle='--', label=\"y=0 (eje x)\")\n",
    "plt.plot(x_vals, y_vals, label=\"f(x)\", color=\"blue\")\n",
    "plt.title(\"Gráfica de f(x) = ln(x^2 + 1) - e^(0.4x) cos(πx)\")\n",
    "plt.xlabel(\"x\")\n",
    "plt.ylabel(\"f(x)\")\n",
    "plt.legend()\n",
    "plt.grid(True)\n",
    "plt.show()\n",
    "\n",
    "# Calcular espaciado promedio entre los ceros positivos\n",
    "def approximate_nth_zero(n):\n",
    "    \"\"\"\n",
    "    Determina una aproximación inicial razonable para el enésimo cero positivo de f(x).\n",
    "    Basado en un análisis visual de la gráfica.\n",
    "    \"\"\"\n",
    "    # Basado en la gráfica, parece que los ceros están aproximadamente separados por ~1.2 unidades\n",
    "    delta_x = 1.2  # Ajustado según observación gráfica\n",
    "    return n * delta_x\n",
    "\n",
    "# Mostrar aproximaciones iniciales razonables para varios ceros positivos\n",
    "print(\"Aproximaciones iniciales razonables para los primeros 10 ceros positivos:\")\n",
    "for i in range(1, 11):  # Desde el primer cero hasta el décimo\n",
    "    approx = approximate_nth_zero(i)\n",
    "    print(f\"Cero positivo {i}: Aproximación inicial ~ {approx}\")"
   ]
  },
  {
   "cell_type": "code",
   "execution_count": 19,
   "id": "c783f5a9-32d7-4570-8c54-92cd804b1e1f",
   "metadata": {},
   "outputs": [
    {
     "name": "stdout",
     "output_type": "stream",
     "text": [
      "Vigesimoquinto cero positivo dentro de 10^-6: 24.499886512756348\n"
     ]
    }
   ],
   "source": [
    "# Literal d\n",
    "# Extender el rango de búsqueda a intervalos consecutivos hasta el vigesimoquinto cero\n",
    "intervals_25 = [(n, n + 1) for n in range(25)]  # Construir 25 intervalos consecutivos\n",
    "\n",
    "roots_25 = find_zeros_positive(f, intervals_25)\n",
    "root_25th = roots_25[24]  # Índice 24 para el vigesimoquinto cero\n",
    "\n",
    "print(f\"Vigesimoquinto cero positivo dentro de 10^-6: {root_25th}\")"
   ]
  },
  {
   "cell_type": "code",
   "execution_count": 22,
   "id": "20bc3b73-acfb-4013-bc6c-43f1951a649a",
   "metadata": {},
   "outputs": [
    {
     "name": "stdout",
     "output_type": "stream",
     "text": [
      "Raíz encontrada con método de Newton: (-2+0j)\n",
      "Raíz encontrada con método de la Secante: -3.3980117618223327\n"
     ]
    }
   ],
   "source": [
    "# Ejercicio 7\n",
    "import math\n",
    "\n",
    "# Función y su derivada\n",
    "def f(x):\n",
    "    return x**(1/3) if x > 0 else 0  # Definimos para evitar raíces negativas\n",
    "\n",
    "def df(x):\n",
    "    if x == 0:\n",
    "        raise ValueError(\"Derivada no está definida en x=0.\")\n",
    "    return 1 / (3 * x**(2/3))\n",
    "\n",
    "# Método de Newton\n",
    "def newton_method(f, df, x0, tol=1e-6, max_iter=100):\n",
    "    for _ in range(max_iter):\n",
    "        if df(x0) == 0:\n",
    "            raise ValueError(\"Derivada cero. Método de Newton no es aplicable.\")\n",
    "        x1 = x0 - f(x0) / df(x0)\n",
    "        if abs(x1 - x0) < tol:\n",
    "            return x1\n",
    "        x0 = x1\n",
    "    raise ValueError(\"El método de Newton no convergió.\")\n",
    "\n",
    "# Método de la Secante\n",
    "def secant_method(f, p0, p1, tol=1e-6, max_iter=100):\n",
    "    for _ in range(max_iter):\n",
    "        if f(p1) - f(p0) == 0:\n",
    "            raise ValueError(\"Diferencia cero. Método de la Secante no es aplicable.\")\n",
    "        p2 = p1 - f(p1) * (p1 - p0) / (f(p1) - f(p0))\n",
    "        if abs(p2 - p1) < tol:\n",
    "            return p2\n",
    "        p0, p1 = p1, p2\n",
    "    raise ValueError(\"El método de la Secante no convergió.\")\n",
    "\n",
    "# Puntos iniciales\n",
    "x0_newton = 1\n",
    "p0_secant = 5\n",
    "p1_secant = 0.5\n",
    "\n",
    "# Resolver con ambos métodos\n",
    "try:\n",
    "    root_newton = newton_method(f, df, x0_newton)\n",
    "    print(f\"Raíz encontrada con método de Newton: {root_newton}\")\n",
    "except ValueError as e:\n",
    "    print(f\"Error en método de Newton: {e}\")\n",
    "\n",
    "try:\n",
    "    root_secant = secant_method(f, p0_secant, p1_secant)\n",
    "    print(f\"Raíz encontrada con método de la Secante: {root_secant}\")\n",
    "except ValueError as e:\n",
    "    print(f\"Error en método de la Secante: {e}\")"
   ]
  },
  {
   "cell_type": "code",
   "execution_count": null,
   "id": "f84951a7-fa54-4f97-901c-95bbfac23108",
   "metadata": {},
   "outputs": [],
   "source": []
  }
 ],
 "metadata": {
  "kernelspec": {
   "display_name": "Python 3 (ipykernel)",
   "language": "python",
   "name": "python3"
  },
  "language_info": {
   "codemirror_mode": {
    "name": "ipython",
    "version": 3
   },
   "file_extension": ".py",
   "mimetype": "text/x-python",
   "name": "python",
   "nbconvert_exporter": "python",
   "pygments_lexer": "ipython3",
   "version": "3.11.7"
  }
 },
 "nbformat": 4,
 "nbformat_minor": 5
}
